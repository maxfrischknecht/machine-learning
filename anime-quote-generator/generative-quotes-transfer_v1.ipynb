{
 "cells": [
  {
   "cell_type": "markdown",
   "metadata": {},
   "source": [
    "# A Notebook to Generative Manga Quotes\n",
    "\n",
    "Based on Transfer Learning from a Small Language Model. "
   ]
  },
  {
   "cell_type": "code",
   "execution_count": 1,
   "metadata": {},
   "outputs": [
    {
     "name": "stdout",
     "output_type": "stream",
     "text": [
      "2.15.0\n",
      "2.15.0\n"
     ]
    },
    {
     "name": "stderr",
     "output_type": "stream",
     "text": [
      "/Users/maxfrischknecht/Documents/Github/machine-learning/anime-quote-generator/.venv/lib/python3.11/site-packages/tqdm/auto.py:21: TqdmWarning: IProgress not found. Please update jupyter and ipywidgets. See https://ipywidgets.readthedocs.io/en/stable/user_install.html\n",
      "  from .autonotebook import tqdm as notebook_tqdm\n"
     ]
    }
   ],
   "source": [
    "import tensorflow as tf\n",
    "print(tf.__version__)  # Should print 2.x.x\n",
    "\n",
    "import keras\n",
    "print(keras.__version__)\n",
    "\n",
    "import kagglehub\n",
    "import os\n",
    "import pandas as pd\n",
    "\n"
   ]
  },
  {
   "cell_type": "markdown",
   "metadata": {},
   "source": [
    "## Define the Pretrained Model and Tokenizer"
   ]
  },
  {
   "cell_type": "code",
   "execution_count": 19,
   "metadata": {},
   "outputs": [
    {
     "name": "stderr",
     "output_type": "stream",
     "text": [
      "All PyTorch model weights were used when initializing TFGPT2LMHeadModel.\n",
      "\n",
      "All the weights of TFGPT2LMHeadModel were initialized from the PyTorch model.\n",
      "If your task is similar to the task the model of the checkpoint was trained on, you can already use TFGPT2LMHeadModel for predictions without further training.\n"
     ]
    }
   ],
   "source": [
    "from transformers import AutoTokenizer, TFAutoModelForCausalLM\n",
    "\n",
    "model_name = \"distilgpt2\"  # Use a TensorFlow-supported model\n",
    "\n",
    "# Load tokenizer\n",
    "tokenizer = AutoTokenizer.from_pretrained(model_name)\n",
    "\n",
    "# Load model\n",
    "model = TFAutoModelForCausalLM.from_pretrained(model_name)"
   ]
  },
  {
   "cell_type": "markdown",
   "metadata": {},
   "source": [
    "## Load the Custom Data for Fine-Tuning"
   ]
  },
  {
   "cell_type": "code",
   "execution_count": null,
   "metadata": {},
   "outputs": [],
   "source": [
    "path = kagglehub.dataset_download(\"tarundalal/anime-quotes\")\n",
    "print(\"Path to dataset files:\", path)\n",
    "\n",
    "filename = \"AnimeQuotes.csv\"  # Specify the filename here\n",
    "dataset_path = os.path.join(path, filename)\n",
    "\n",
    "if os.path.exists(dataset_path):\n",
    "    df = pd.read_csv(dataset_path)\n",
    "    print(\"Dataset loaded successfully:\")\n",
    "    print(df.head())\n",
    "else:\n",
    "    raise FileNotFoundError(f\"File {filename} not found in the dataset directory.\")\n"
   ]
  },
  {
   "cell_type": "markdown",
   "metadata": {},
   "source": [
    "## Data Pre-Processing"
   ]
  },
  {
   "cell_type": "code",
   "execution_count": 55,
   "metadata": {},
   "outputs": [
    {
     "data": {
      "text/plain": [
       "['People’s lives don’t end when they die it ends when they lose faith.',\n",
       " 'If you don’t take risks you can’t create a future',\n",
       " 'If you don’t like your destiny don’t accept it.',\n",
       " 'When you give up that’s when the game ends.',\n",
       " 'All we can do is live until the day we die. Control what we canand fly free.',\n",
       " 'Forgetting is like a wound. The wound may heal but it has already left a scar.',\n",
       " 'It’s just pathetic to give up on something before you even give it a shot.',\n",
       " 'If you don’t share someone’s pain you can never understand them.',\n",
       " 'Whatever you lose you’ll find it again. But what you throw away you’ll never get back.',\n",
       " 'We don’t have to know what tomorrow holds That’s why we can live for everything we’re worth today',\n",
       " 'Why should I apologize for being a monster Has anyone ever apologized for turning me into one',\n",
       " 'People become stronger because they have memories they can’t forget.',\n",
       " 'I’ll leave tomorrow’s problems to tomorrow’s me.',\n",
       " 'If you wanna make people dream you’ve gotta start by believing in that dream yourself',\n",
       " 'Being lonely is more painful then getting hurt.',\n",
       " 'There’s no shame in falling down True shame is to not stand up again',\n",
       " 'Simplicity is the easiest path to true beauty.',\n",
       " 'If you can’t do something then don’t. Focus on what you can.',\n",
       " 'Giving up kills people. When people reject giving up they finally win the right to transcend humanity.',\n",
       " 'You can die anytime but living takes true courage.',\n",
       " 'Every journey begins with a single step. We just have to have patience.',\n",
       " 'It doesn’t do any good to pretend you can’t see what’s going on.',\n",
       " 'Being weak is nothing to be ashamed of Staying weak is',\n",
       " 'To act is not necessarily compassion. True compassion sometimes comes from inaction.',\n",
       " 'A dropout will beat a genius through hard work.',\n",
       " 'Reject common sense to make the impossible possible.',\n",
       " 'Whatever you lose you’ll find it again. But what you throw away you’ll never get back.',\n",
       " 'If you really want to be strong Stop caring about what your surrounding thinks of you',\n",
       " 'Vision is not what your eyes see but an image that your brain comprehends.',\n",
       " 'Sometimes people are just mean. Don’t fight mean with mean. Hold your head high.',\n",
       " 'The ticket to the future is always open.',\n",
       " 'Hard work is worthless for those that don’t believe in themselves.',\n",
       " 'A place where someone still thinks about you is a place you can call home.',\n",
       " 'Life comes at a cost. Wouldn’t it be arrogant\\xa0to die before you’ve repaid that debt',\n",
       " 'You can die anytime but living takes true courage.',\n",
       " 'Every journey begins with a single step. We just have to have patience.',\n",
       " 'If you just submit yourself to fate then that’s the end of it.',\n",
       " 'It is at the moment of death that humanity has value.',\n",
       " 'People who can’t throw something important away can never hope to change anything.',\n",
       " 'Whatever you do enjoy it to the fullest. That is the secret of life.',\n",
       " 'Power comes in response to a need not a desire. You have to create that need.',\n",
       " 'There are no regrets. If one can be proud of one’s life one should not wish for another chance.',\n",
       " 'You can’t always hold on to the things that are important. By letting them go we gain something else.',\n",
       " 'If you don’t like your destiny don’t accept it. Instead have the courage to change it the way you want it to be.',\n",
       " 'Don’t beg\\xa0for\\xa0things. Do\\xa0it yourself or else you won’t\\xa0get anything.',\n",
       " 'I refuse to let my fear control me anymore.',\n",
       " 'If you can’t find a reason to fight then you shouldn’t be fighting.',\n",
       " 'You should never give up on life no matter how you feel. No matter how badly you want to give up.',\n",
       " 'People who can’t throw something important away can never hope to change anything.',\n",
       " 'We can’t waste time worrying about the what if’s.',\n",
       " 'Fools who don’t respect the past are likely to repeat it.',\n",
       " 'That’s why I can’t make a change. Everything I do is so Half-assed.',\n",
       " 'Sometimes it’s necessary to do unnecessary things.',\n",
       " 'An excellent leader must be passionate because it’s their duty to keep everyone moving forward.',\n",
       " 'Protecting someone means giving them a place to belong. Giving them a place where they can be happy.',\n",
       " 'Thinking you’re no-good and worthless is the worst thing you can do',\n",
       " 'Sometimes I do feel like I’m a failure. Like there’s no hope for me. But even so I’m not gonna give up. Ever',\n",
       " 'If you can’t do something then don’t. Focus on what you can do.',\n",
       " 'When you lose sight of your path listen for the destination in your heart.',\n",
       " 'The moment you think of giving up think of the reason why you held on so long.',\n",
       " 'Don’t give up there’s no shame in falling down True shame is to not stand up again',\n",
       " 'No matter how hard or impossible it is never lose sight of your goal.',\n",
       " 'Life is not a game of luck. If you wanna win work hard.',\n",
       " 'The world isn’t perfect. But it’s there for us doing the best it can.that’s what makes it so damn beautiful.',\n",
       " 'Fear is not evil. It tells you what your weakness is. And once you know your weakness you can become stronger as well as kinder.',\n",
       " 'To know sorrow is not terrifying. What is terrifying is to know you can’t go back to happiness you could have.',\n",
       " 'Knowing you’re different is only the beginning. If you accept these differences you’ll be able to get past them and grow even closer.',\n",
       " 'Don’t be so quick to throw away your life. No matter how disgraceful or embarrassing it may be you need to keep struggling to find your way out until the very end.',\n",
       " 'The world’s not perfect but it’s there for us trying the best it can. That’s what makes it so damn beautiful.',\n",
       " 'We are all like fireworks: we climb we shine and always go our separate ways and become further apart. But even when that time comes let’s not disappear like a firework and continue to shine.. forever.',\n",
       " 'If nobody cares to accept you and wants you in this world accept yourself and you will see that you don’t need them and their selfish ideas.',\n",
       " 'When you hit the point of no return that’s the moment it truly becomes a journey. If you can still turn back it’s not really a journey.',\n",
       " 'Those who stand at the top determine what’s wrong and what’s right This very place is neutral ground Justice will prevail you say But of course it will Whoever wins this war becomes justice',\n",
       " 'A person grows up when he’s able to overcome hardships. Protection is important but there are some things that a person must learn on his own.',\n",
       " 'Who decides limits And based on what You said you worked hard Well maybe you need to work a little harder. Is that really the limit of your strength Could you of tomorrow beat you today Instead of giving in move forward.',\n",
       " 'Mistakes are not shackles that halt one from stepping forward. Rather they are that which sustain and grow one’s heart.',\n",
       " 'Fear is freedom Subjugation is liberation Contradiction is the truth Those are the facts of this world And you will all surrender to them you pigs in human clothing',\n",
       " 'Hatred and Sorrow are power. They are yours to control. All you have to do is to turn them into strength and use that strength to move forward.',\n",
       " 'It’s not always possible to do what we want to do but it’s important to believe in something before you actually do it.',\n",
       " 'Life and death are like light and shadow. They’re both always there. But people don’t like thinking about death so subconsciously they always look away from it.',\n",
       " 'It’s more important to master the cards you’re holding than to complain about the ones your opponent was dealt.',\n",
       " 'I am the hope of the universe. I am the answer to all living things that cry out for peace. I am the protector of the innocent. I am the light in the darkness. I am the truth. Ally to good Nightmare to you',\n",
       " 'If you’re gonna insist on gambling and then complain when you lose you had better work on your game.',\n",
       " 'Moving on doesn’t mean you forget about things. It just means you have to accept what’s happened and continue living.',\n",
       " 'If nobody cares to accept you and wants you in this world accept yourself and you will see that you don’t need them and their selfish ideas.',\n",
       " 'If you keep on hiding your true feelings who is going to be happy If you are sad you should say it out loud',\n",
       " 'Religion ideology resources land spite love or just because No matter how pathetic the reason it’s enough to start a war. War will never cease to exist reasons can be thought up after the fact Human nature pursues strife.',\n",
       " 'Don’t be upset because of what you can’t do. Do what you do best live as carefree and optimistically as you can because some people aren’t able to do that.',\n",
       " 'If you begin to regret you’ll dull your future decisions and let others make your choices for you. All that’s left for you then is to die. Nobody can foretell the outcome. Each decision you make holds meaning only by affecting your next decision.',\n",
       " 'Everything has a beginning and an end. Life is just a cycle of starts and stops. There are ends we don’t desire but they’re inevitable we have to face them. It’s what being human is all about.',\n",
       " 'Anything can happen. No one ever thinks it will until it does. What will happen happens. That’s how the world is. The most important thing is to not let the tragedy defeat you. To believe that you can get through it.',\n",
       " 'You’ll only realize that you truly love someone if they already caused you enormous pain. Your enemies can never hurt you the way your loved ones can. It’s the people close to your heart that can give you the most piercing wound. Love is a double-edged sword it can heal the wound faster or it can sink the blade even deeper.',\n",
       " 'I want you to be happy. I want you to laugh a lot. I don’t know what exactly I’ll be able to do for you but I’ll always be by your side.',\n",
       " '“A lesson without pain is meaningless. That’s because no one can gain without sacrificing something. But by enduring that pain and overcoming it he shall obtain a powerful unmatched heart.',\n",
       " 'You need to accept the fact that you’re not the best and have all the will to strive to be better than anyone you face.',\n",
       " 'I too will obtain everything that I desire. Not because someone asked me to do it but because I know in my heart that I have something worth fighting for.',\n",
       " 'You can’t win a game by doing nothing. And if someone else wins it for you then you haven’t accomplished anything. Life is the same way.',\n",
       " 'Do not think about other things there is only one thing you can do. So master that one thing. Do not forget. What you must imagine is always that you yourself are the strongest. You do not need outside enemies. For you the one you have to fight is none other than your own image.',\n",
       " 'Life is like a tube of toothpaste. When you’ve used all the toothpaste down to the last squeeze that’s when you’ve really lived. Live with all your might and struggle as long as you have life.',\n",
       " 'Just like\\xa0games no matter how well you have things lined up in your life there’s always something to keep you on your toes.',\n",
       " 'Do exactly as you like. That is the true meaning of pleasure. Pleasure leads to joy and joy leads to happiness.',\n",
       " 'It Doesn t Matter How Strong The Opposition Is It Doesn t Matter How Fearsome The World Is It Doesn t Matter How Cruel The World Is Fight',\n",
       " 'If There Are Humans Who Can Bring About Change They re Those Who Are Capable Of Abandoning Everything People Who When Required To Surpass Even Monsters Are Capable Of Tossing Aside Their Very Humanity',\n",
       " 'I Don t Like The Terms Good Person or Bad Person It Is Impossible To Be Entirely Good To Everyone To Some You Are A Good Person While To Others You Are A Bad Person',\n",
       " 'As Long As We Continue To Fight We Are Not Defeated',\n",
       " 'If You Win You Live If You Lose You Die If You Don t Fight You Can t Win',\n",
       " 'You Understand Don t You One Day Or Another Everyone You Care About Eventually Dies It s Something We Simply Can t Accept It s A Realization That Could Drive You Insane',\n",
       " 'You re Gonna Care What Other People Think And Be Someone You re Not Your Whole Life You re Fine As You Are So Talk In Your Own Words',\n",
       " 'Everyone Had To Be Drunk On Somethin To Keep Pushing On Everyone Was A Slave To Somethin',\n",
       " 'This World Is Cruel And It s Also Very Beautiful',\n",
       " 'No One Knows What The Outcome Will Be So Choose Whatever You ll Regret The Least',\n",
       " 'Do you need a reason to not want to lose',\n",
       " 'Being the best decoy ever is as cool as being the ace',\n",
       " 'You can fly even higher',\n",
       " 'If they adjust to me I have to adjust in turn Whoever stops adjusting won t be able to continue forward',\n",
       " 'The last ones standing are the victors Only the strongest If you want to be the last one standing become strong',\n",
       " 'Life s a bore if you don t challenge yourself',\n",
       " 'There are some flowers you only see when you take detours',\n",
       " 'Being weak means that there is room to grow',\n",
       " 'Today might be the chance to grasp the chance to let your talent bloom',\n",
       " 'If you re gonna hit it hit it until it breaks']"
      ]
     },
     "execution_count": 55,
     "metadata": {},
     "output_type": "execute_result"
    }
   ],
   "source": [
    "import re\n",
    "\n",
    "# Function to clean text by removing unwanted punctuation\n",
    "def clean_text(text):\n",
    "    text = re.sub(r'[\"”!?,…]', '', text)  # Remove specific punctuation\n",
    "    text = text.strip()  # Remove leading/trailing spaces\n",
    "    return text\n",
    "\n",
    "# Extract the \"Quote\" column from the DataFrame\n",
    "quotes = df['Quote']\n",
    "\n",
    "# Convert all values in the column to strings (in case they are not already)\n",
    "quotes = quotes.astype(str)\n",
    "\n",
    "# Apply text cleaning function\n",
    "quotes = quotes.apply(clean_text)\n",
    "\n",
    "# Convert the column into a Python list (so it can be processed further)\n",
    "quotes = quotes.tolist()\n",
    "\n",
    "quotes"
   ]
  },
  {
   "cell_type": "markdown",
   "metadata": {},
   "source": [
    "### Tokenization\n",
    "\n",
    "- distilgpt2 does not have a default padding token. GPT-2 models (including distilgpt2) do not use padding tokens since they process text in a left-aligned, continuous stream. However, for batch processing (like in fine-tuning), we need to define a padding token manually."
   ]
  },
  {
   "cell_type": "code",
   "execution_count": 56,
   "metadata": {},
   "outputs": [],
   "source": [
    "# Assign a padding token\n",
    "tokenizer.pad_token = tokenizer.eos_token\n",
    "tokenizer.padding_side = \"left\"\n",
    "\n",
    "# Tokenize all quotes\n",
    "tokenized_quotes = tokenizer(\n",
    "    quotes, truncation=True, padding=\"max_length\", max_length=50, return_tensors=\"tf\"\n",
    ")"
   ]
  },
  {
   "cell_type": "code",
   "execution_count": 57,
   "metadata": {},
   "outputs": [],
   "source": [
    "# Function to properly set up dataset\n",
    "def map_fn(input_ids, attention_mask):\n",
    "    labels = tf.concat([input_ids[:, 1:], tf.fill((tf.shape(input_ids)[0], 1), tokenizer.pad_token_id)], axis=1)\n",
    "    return {\"input_ids\": input_ids, \"attention_mask\": attention_mask}, labels\n",
    "\n",
    "BATCH_SIZE = 8\n",
    "dataset = tf.data.Dataset.from_tensor_slices(\n",
    "    (tokenized_quotes[\"input_ids\"], tokenized_quotes[\"attention_mask\"])\n",
    ").batch(BATCH_SIZE).map(map_fn)\n",
    "\n",
    "# Convert tokenized quotes into a TensorFlow dataset for training:\n",
    "# Convert to TensorFlow Dataset\n",
    "# dataset = tf.data.Dataset.from_tensor_slices((tokenized_quotes[\"input_ids\"], tokenized_quotes[\"attention_mask\"]))\n",
    "\n",
    "# Shuffle and batch\n",
    "# dataset = dataset.shuffle(len(quotes)).batch(BATCH_SIZE)"
   ]
  },
  {
   "cell_type": "markdown",
   "metadata": {},
   "source": [
    "## Fine-Tune Pre-Trained Model with Custom Data Set\n",
    "\n",
    "Some notes on interpreting `loss`:\n",
    "- Below 2.0 → Model is learning well.\n",
    "- Between 1.0 - 1.5 → Good text generation capability.\n",
    "- Below 1.0 → Model is highly trained and very accurate.\n",
    "- However, if the loss is too low (~0.5 or lower), the model might be overfitting (just memorizing the training data instead of generalizing).\n",
    "- The drop in loss should be smooth and consistent, meaning the model is learning without sudden overfitting.\n",
    "\n",
    "Then, test the output.\n",
    "- If the output looks good, no need for further training!\n",
    "- If the output is still a bit repetitive, train for 2-3 more epochs (EPOCHS = 7 or 8) with a lower learning rate (learning_rate=3e-5) to refine the model."
   ]
  },
  {
   "cell_type": "code",
   "execution_count": 215,
   "metadata": {},
   "outputs": [
    {
     "name": "stdout",
     "output_type": "stream",
     "text": [
      "Epoch 1/5\n",
      "16/16 [==============================] - 13s 647ms/step - loss: 1.7794\n",
      "Epoch 2/5\n",
      "16/16 [==============================] - 10s 625ms/step - loss: 1.5919\n",
      "Epoch 3/5\n",
      "16/16 [==============================] - 10s 620ms/step - loss: 1.4908\n",
      "Epoch 4/5\n",
      "16/16 [==============================] - 10s 622ms/step - loss: 1.3754\n",
      "Epoch 5/5\n",
      "16/16 [==============================] - 10s 622ms/step - loss: 1.3373\n"
     ]
    },
    {
     "data": {
      "text/plain": [
       "<keras.src.callbacks.History at 0x3b4a0aa50>"
      ]
     },
     "execution_count": 215,
     "metadata": {},
     "output_type": "execute_result"
    }
   ],
   "source": [
    "# import tensorflow.keras as keras  # Make sure you are using TensorFlow's Keras\n",
    "\n",
    "optimizer = tf.keras.optimizers.legacy.Adam(learning_rate=5e-5)\n",
    "\n",
    "# manually define loss function\n",
    "loss_fn = keras.losses.SparseCategoricalCrossentropy(from_logits=True, reduction=\"none\")\n",
    "\n",
    "# Compile model\n",
    "model.compile(optimizer=optimizer, loss=loss_fn)\n",
    "\n",
    "# Train the model\n",
    "EPOCHS = 5\n",
    "model.fit(dataset, epochs=EPOCHS)"
   ]
  },
  {
   "cell_type": "markdown",
   "metadata": {},
   "source": [
    "Save the model"
   ]
  },
  {
   "cell_type": "code",
   "execution_count": 216,
   "metadata": {},
   "outputs": [
    {
     "data": {
      "text/plain": [
       "('./manga-quote-generator/tokenizer_config.json',\n",
       " './manga-quote-generator/special_tokens_map.json',\n",
       " './manga-quote-generator/vocab.json',\n",
       " './manga-quote-generator/merges.txt',\n",
       " './manga-quote-generator/added_tokens.json',\n",
       " './manga-quote-generator/tokenizer.json')"
      ]
     },
     "execution_count": 216,
     "metadata": {},
     "output_type": "execute_result"
    }
   ],
   "source": [
    "model.save_pretrained(\"./manga-quote-generator\")\n",
    "tokenizer.save_pretrained(\"./manga-quote-generator\")"
   ]
  },
  {
   "cell_type": "markdown",
   "metadata": {},
   "source": [
    "## Generate a Manga-Style Quote\n",
    "\n",
    "input_ids – The encoded input prompt from which the model will generate text.\n",
    "- Example: input_ids = tokenizer.encode(\"A warrior never\", return_tensors=\"tf\")\n",
    "\n",
    "max_length=50 – The maximum number of tokens (words + punctuation) the model will generate before stopping.\n",
    "- Increase for longer responses (e.g., max_length=100 for full paragraphs).\n",
    "- Decrease for shorter quotes (e.g., max_length=30).\n",
    "\n",
    "temperature=0.7 – Controls randomness in word selection.\n",
    "- Lower values (e.g., 0.3) make the output more predictable and deterministic.\n",
    "- Higher values (e.g., 1.0) make the output more creative and diverse.\n",
    "\n",
    "top_k=50 – Limits word selection to the top 50 most probable words at each step.\n",
    "- Lower values (e.g., top_k=10) make the output more focused.\n",
    "- Higher values increase diversity but can lead to randomness.\n",
    "\n",
    "top_p=0.9 – Enables nucleus sampling, which selects words from the smallest group of high-probability choices that together add up to 90% probability.\n",
    "- If top_p=1.0, the model considers all possible words (more unpredictable).\n",
    "- If top_p=0.5, the model limits selection to only the most likely words (more controlled).\n",
    "\n",
    "do_sample=True – Enables sampling instead of greedy decoding, which improves creativity.\n",
    "- If False, the model will always pick the highest-probability token (more robotic responses).\n",
    "- If True, the model will randomly sample from the probability distribution (more natural responses)."
   ]
  },
  {
   "cell_type": "code",
   "execution_count": 275,
   "metadata": {},
   "outputs": [
    {
     "name": "stderr",
     "output_type": "stream",
     "text": [
      "The attention mask and the pad token id were not set. As a consequence, you may observe unexpected behavior. Please pass your input's `attention_mask` to obtain reliable results.\n"
     ]
    },
    {
     "name": "stdout",
     "output_type": "stream",
     "text": [
      "Life is the most powerful thing in life. It’s what makes you stronger than ever before! And when it comes to happiness and death, that means everything else can be accomplished without fear of failure!\n"
     ]
    }
   ],
   "source": [
    "input_text = \"Life is\"\n",
    "input_ids = tokenizer.encode(input_text, return_tensors=\"tf\")\n",
    "\n",
    "output = model.generate(\n",
    "    input_ids, \n",
    "    max_length=50, \n",
    "    temperature=0.7, # Increase randomness\n",
    "    top_k=50, # Reduce selection pool for better variety\n",
    "    top_p=0.6, # Adjust nucleus sampling for controlled diversity\n",
    "    repetition_penalty=1.2,  # Reduce repetitive phrases\n",
    "    do_sample=True,\n",
    "    no_repeat_ngram_size=2 #Prevents the model from generating EOS too soon if a phrase has already appeared\n",
    ")\n",
    "\n",
    "generated_text = tokenizer.decode(output[0], skip_special_tokens=True).strip('\"”’“‘')\n",
    "print(generated_text)"
   ]
  },
  {
   "cell_type": "markdown",
   "metadata": {},
   "source": [
    "**Best Of Quotes**\n",
    "\n",
    "3 Epochs\n",
    "- Life is the most important thing in life.\n",
    "- Life is a waste of time,’s hard work and effort. It will not be the best thing you can do\n",
    "- Life is a world of pain.\n",
    "- Life is a place to be. We’re going down and on, we can continue\n",
    "- Life is the perfect moment of life.\n",
    "\n",
    "5 Epochs\n",
    "- Life is not a thing. But it’s the beginning of all things in life\n",
    "- Life is not a matter of fate. It’s an act of destiny to be loved and peace for you all the\n",
    "- Life is the only thing you can do.’s what it takes to live with your enemies and overcome them all!\n",
    "- Life is a game of luck. You’ll never lose sight to your enemies and gain the most important thing you can\n",
    "- Life is the most important thing to do. You’ll never forget it\n",
    "- Life is not a game of luck. It’s the outcome that makes you happy and strong but it doesn't mean what your opponent wins! If there are no problems to overcome then they can always win with patience or hard work as well\n",
    "- Life is a beautiful place to live. But it’s not the right time for you!\n",
    "- Life is not the end of all things but a journey. The beginning will be as long and beautiful as you can find it. You are free to live your way through life’s path. Your destiny is what makes up for it all. True, but when.\n",
    "\n",
    "\n",
    "\n",
    "\n",
    "\n"
   ]
  },
  {
   "cell_type": "code",
   "execution_count": null,
   "metadata": {},
   "outputs": [],
   "source": []
  }
 ],
 "metadata": {
  "kernelspec": {
   "display_name": ".venv",
   "language": "python",
   "name": "python3"
  },
  "language_info": {
   "codemirror_mode": {
    "name": "ipython",
    "version": 3
   },
   "file_extension": ".py",
   "mimetype": "text/x-python",
   "name": "python",
   "nbconvert_exporter": "python",
   "pygments_lexer": "ipython3",
   "version": "3.11.5"
  }
 },
 "nbformat": 4,
 "nbformat_minor": 2
}
