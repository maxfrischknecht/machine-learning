{
 "cells": [
  {
   "cell_type": "markdown",
   "metadata": {},
   "source": [
    "# AdaIN Style Transfer"
   ]
  },
  {
   "cell_type": "code",
   "execution_count": 23,
   "metadata": {},
   "outputs": [],
   "source": [
    "import torch\n",
    "from torchvision import models\n",
    "import torchvision.transforms as transforms\n",
    "from PIL import Image\n",
    "import requests\n",
    "from torchvision.models import VGG19_Weights\n",
    "import matplotlib.pyplot as plt\n",
    "\n"
   ]
  },
  {
   "cell_type": "code",
   "execution_count": 4,
   "metadata": {},
   "outputs": [
    {
     "name": "stderr",
     "output_type": "stream",
     "text": [
      "Downloading: \"https://download.pytorch.org/models/vgg19-dcbb9e9d.pth\" to /Users/maxfrischknecht/.cache/torch/hub/checkpoints/vgg19-dcbb9e9d.pth\n",
      "100%|██████████| 548M/548M [01:45<00:00, 5.45MB/s] \n"
     ]
    }
   ],
   "source": [
    "# Load VGG19 Pretrained Model\n",
    "vgg = models.vgg19(weights=VGG19_Weights.IMAGENET1K_V1).features.eval()"
   ]
  },
  {
   "cell_type": "code",
   "execution_count": 38,
   "metadata": {},
   "outputs": [],
   "source": [
    "# ✅ Define which VGG19 layers to extract features from\n",
    "VGG_LAYERS = {\n",
    "    \"content\": 21,  # relu4_2 in VGG19 (captures content structure)\n",
    "    \"style\": 21  # Extract style from the SAME layer\n",
    "    # \"content\": [1, 6, 11, 20],  # relu4_2\n",
    "    # \"style\": [1, 6, 11, 20]  # relu1_1, relu2_1, relu3_1, relu4_1\n",
    "}\n",
    "\n",
    "# ✅ Class to extract content & style features from VGG19\n",
    "class VGGFeatures(torch.nn.Module):\n",
    "    def __init__(self, layers):\n",
    "        super().__init__()\n",
    "        self.vgg = models.vgg19(weights=VGG19_Weights.IMAGENET1K_V1).features.eval()\n",
    "        self.layers = layers\n",
    "\n",
    "    def forward(self, x):\n",
    "        features = {}\n",
    "        for name, layer in enumerate(self.vgg):\n",
    "            x = layer(x)  # Pass image through VGG\n",
    "            if name == self.layers[\"style\"]:\n",
    "                features[\"style\"] = x  # Save style feature\n",
    "            if name == self.layers[\"content\"]:\n",
    "                features[\"content\"] = x  # Save content feature\n",
    "                break  # Stop after content layer\n",
    "        return features"
   ]
  },
  {
   "cell_type": "code",
   "execution_count": 34,
   "metadata": {},
   "outputs": [],
   "source": [
    "# load from url\n",
    "# def load_image(url):\n",
    "#     response = requests.get(url, stream=True)\n",
    "#     image = Image.open(response.raw)\n",
    "#     transform = transforms.Compose([\n",
    "#         transforms.Resize((256, 256)),\n",
    "#         transforms.ToTensor(),\n",
    "#     ])\n",
    "#     return transform(image).unsqueeze(0)\n",
    "\n",
    "# load images locally\n",
    "def load_image(image_path):\n",
    "    \"\"\"Loads an image from a local path and converts it to a PyTorch tensor.\"\"\"\n",
    "    try:\n",
    "        image = Image.open(image_path).convert(\"RGB\")  # Ensure RGB mode\n",
    "    except Exception as e:\n",
    "        raise ValueError(f\"Error opening image: {e}\")\n",
    "\n",
    "    transform = transforms.Compose([\n",
    "        transforms.Resize((256, 256)),  # Resize to 256x256\n",
    "        transforms.ToTensor(),  # Convert to tensor (C, H, W)\n",
    "    ])\n",
    "    \n",
    "    return transform(image).unsqueeze(0)  # Add batch dimension (1, C, H, W)\n",
    "\n",
    "content_image = load_image(\"./data/moss-forest.jpg\")\n",
    "style_image = load_image(\"./data/hokusai-fuji.jpg\")"
   ]
  },
  {
   "cell_type": "code",
   "execution_count": 39,
   "metadata": {},
   "outputs": [
    {
     "name": "stdout",
     "output_type": "stream",
     "text": [
      "Stylized Image Shape: torch.Size([1, 512, 32, 32])\n"
     ]
    }
   ],
   "source": [
    "# Perform AdaIN transformation\n",
    "# Define Adaptive Instance Normalization (AdaIN) Function\n",
    "def adain(content, style):\n",
    "    \"\"\"Performs Adaptive Instance Normalization (AdaIN) to blend style with content.\"\"\"\n",
    "    \n",
    "    # Compute mean & standard deviation for content and style\n",
    "    mean_content, std_content = content.mean([2, 3], keepdim=True), content.std([2, 3], keepdim=True)\n",
    "    mean_style, std_style = style.mean([2, 3], keepdim=True), style.std([2, 3], keepdim=True)\n",
    "\n",
    "    # Normalize content and apply style statistics\n",
    "    normalized_content = (content - mean_content) / (std_content + 1e-7)  # Prevent division by zero\n",
    "    stylized = normalized_content * std_style + mean_style\n",
    "\n",
    "    return stylized\n",
    "\n",
    "vgg = VGGFeatures(VGG_LAYERS)\n",
    "\n",
    "# Extract features from content & style images using VGG\n",
    "with torch.no_grad():\n",
    "    features = vgg(content_image)  # Extract features\n",
    "    content_features = features[\"content\"]  # Extract content feature\n",
    "    style_features = features[\"style\"]  # Extract style from SAME layer\n",
    "    stylized_image = adain(content_features, style_features)  # Apply AdaIN\n",
    "\n",
    "# ✅ Debug: Check shape of output\n",
    "print(\"Stylized Image Shape:\", stylized_image.shape)  # Expected: (1, 512, 32, 32) → Must fix\n",
    "\n",
    "# ✅ **Fix Output Shape: Reduce 512 Channels → 3 Channels & Resize**\n",
    "class Decoder(torch.nn.Module):\n",
    "    def __init__(self):\n",
    "        super().__init__()\n",
    "        self.conv = torch.nn.Conv2d(512, 3, kernel_size=3, padding=1)  # Reduce channels to 3 (RGB)\n",
    "        self.upsample = torch.nn.Upsample(size=(256, 256), mode=\"bilinear\", align_corners=False)  # Resize\n",
    "\n",
    "    def forward(self, x):\n",
    "        x = self.conv(x)  # Reduce channels\n",
    "        x = self.upsample(x)  # Resize to 256x256\n",
    "        return x\n",
    "\n",
    "decoder = Decoder()\n",
    "\n",
    "with torch.no_grad():\n",
    "    stylized_image = decoder(stylized_image)  # Convert to RGB image\n",
    "\n",
    "# ✅ Ensure correct dimensions\n",
    "stylized_image = stylized_image.squeeze(0)  # Remove batch dimension -> (C, H, W)\n",
    "\n",
    "# ✅ Fix channel ordering (PyTorch format → Image format)\n",
    "if stylized_image.shape[0] == 3:\n",
    "    stylized_image = stylized_image.permute(1, 2, 0)  # Convert (C, H, W) → (H, W, C)\n",
    "\n",
    "# ✅ Convert tensor to NumPy image and scale values\n",
    "output_image = stylized_image.clamp(0, 1).numpy()\n",
    "output_image = (output_image * 255).astype(\"uint8\")\n",
    "\n",
    "# ✅ Convert to PIL image and show\n",
    "output_image = Image.fromarray(output_image)\n",
    "output_image.show()"
   ]
  },
  {
   "cell_type": "code",
   "execution_count": null,
   "metadata": {},
   "outputs": [],
   "source": []
  }
 ],
 "metadata": {
  "kernelspec": {
   "display_name": ".venv",
   "language": "python",
   "name": "python3"
  },
  "language_info": {
   "codemirror_mode": {
    "name": "ipython",
    "version": 3
   },
   "file_extension": ".py",
   "mimetype": "text/x-python",
   "name": "python",
   "nbconvert_exporter": "python",
   "pygments_lexer": "ipython3",
   "version": "3.11.5"
  }
 },
 "nbformat": 4,
 "nbformat_minor": 2
}
